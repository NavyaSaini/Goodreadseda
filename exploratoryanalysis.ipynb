{
 "cells": [
  {
   "cell_type": "code",
   "execution_count": 29,
   "id": "0d6d4b87",
   "metadata": {},
   "outputs": [
    {
     "name": "stdout",
     "output_type": "stream",
     "text": [
      "<class 'pandas.core.frame.DataFrame'>\n",
      "RangeIndex: 3660 entries, 0 to 3659\n",
      "Data columns (total 17 columns):\n",
      " #   Column      Non-Null Count  Dtype  \n",
      "---  ------      --------------  -----  \n",
      " 0   gid         3660 non-null   int64  \n",
      " 1   rank        3660 non-null   int64  \n",
      " 2   votes       3660 non-null   int64  \n",
      " 3   title       3660 non-null   object \n",
      " 4   category    3660 non-null   object \n",
      " 5   year        3660 non-null   int64  \n",
      " 6   authors     3660 non-null   object \n",
      " 7   avg_rating  3660 non-null   float64\n",
      " 8   pages       3590 non-null   float64\n",
      " 9   published   3507 non-null   object \n",
      " 10  publisher   3660 non-null   object \n",
      " 11  5stars      3660 non-null   int64  \n",
      " 12  4stars      3660 non-null   int64  \n",
      " 13  3stars      3660 non-null   int64  \n",
      " 14  2stars      3660 non-null   int64  \n",
      " 15  1stars      3660 non-null   int64  \n",
      " 16  ratings     3660 non-null   int64  \n",
      "dtypes: float64(2), int64(10), object(5)\n",
      "memory usage: 486.2+ KB\n"
     ]
    }
   ],
   "source": [
    "import numpy as np \n",
    "import pandas as pd\n",
    "import os\n",
    "import seaborn as sns\n",
    "import matplotlib.pyplot as plt \n",
    "import os\n",
    "for dirname, _, filenames in os.walk('/projects'):\n",
    "    for filename in filenames:\n",
    "        print(os.path.join(dirname, filename))\n",
    "        \n",
    "df = pd.read_csv('GoodReadsAwards.csv',error_bad_lines=False)\n",
    "\n",
    "df.info()\n"
   ]
  },
  {
   "cell_type": "code",
   "execution_count": 20,
   "id": "92f17db6",
   "metadata": {},
   "outputs": [
    {
     "data": {
      "text/html": [
       "<div>\n",
       "<style scoped>\n",
       "    .dataframe tbody tr th:only-of-type {\n",
       "        vertical-align: middle;\n",
       "    }\n",
       "\n",
       "    .dataframe tbody tr th {\n",
       "        vertical-align: top;\n",
       "    }\n",
       "\n",
       "    .dataframe thead th {\n",
       "        text-align: right;\n",
       "    }\n",
       "</style>\n",
       "<table border=\"1\" class=\"dataframe\">\n",
       "  <thead>\n",
       "    <tr style=\"text-align: right;\">\n",
       "      <th></th>\n",
       "      <th>gid</th>\n",
       "      <th>rank</th>\n",
       "      <th>votes</th>\n",
       "      <th>title</th>\n",
       "      <th>category</th>\n",
       "      <th>year</th>\n",
       "      <th>authors</th>\n",
       "      <th>avg_rating</th>\n",
       "      <th>pages</th>\n",
       "      <th>published</th>\n",
       "      <th>publisher</th>\n",
       "      <th>5stars</th>\n",
       "      <th>4stars</th>\n",
       "      <th>3stars</th>\n",
       "      <th>2stars</th>\n",
       "      <th>1stars</th>\n",
       "      <th>ratings</th>\n",
       "    </tr>\n",
       "  </thead>\n",
       "  <tbody>\n",
       "    <tr>\n",
       "      <th>0</th>\n",
       "      <td>8306857</td>\n",
       "      <td>1</td>\n",
       "      <td>10159</td>\n",
       "      <td>Divergent (Divergent, #1)</td>\n",
       "      <td>Favorite Book of 2011</td>\n",
       "      <td>2011</td>\n",
       "      <td>Veronica Roth</td>\n",
       "      <td>4.20</td>\n",
       "      <td>487.0</td>\n",
       "      <td>2011-04-25</td>\n",
       "      <td>Katherine Tegen Books</td>\n",
       "      <td>1343769</td>\n",
       "      <td>835964</td>\n",
       "      <td>406657</td>\n",
       "      <td>114036</td>\n",
       "      <td>51883</td>\n",
       "      <td>2752309</td>\n",
       "    </tr>\n",
       "    <tr>\n",
       "      <th>1</th>\n",
       "      <td>7304203</td>\n",
       "      <td>2</td>\n",
       "      <td>8970</td>\n",
       "      <td>Shadowfever (Fever, #5)</td>\n",
       "      <td>Favorite Book of 2011</td>\n",
       "      <td>2011</td>\n",
       "      <td>Karen Marie Moning</td>\n",
       "      <td>4.41</td>\n",
       "      <td>608.0</td>\n",
       "      <td>2011-01-18</td>\n",
       "      <td>Delacorte Press</td>\n",
       "      <td>57918</td>\n",
       "      <td>23886</td>\n",
       "      <td>8573</td>\n",
       "      <td>2335</td>\n",
       "      <td>1884</td>\n",
       "      <td>94596</td>\n",
       "    </tr>\n",
       "    <tr>\n",
       "      <th>2</th>\n",
       "      <td>10664113</td>\n",
       "      <td>3</td>\n",
       "      <td>7617</td>\n",
       "      <td>A Dance with Dragons (A Song of Ice and Fire, #5)</td>\n",
       "      <td>Favorite Book of 2011</td>\n",
       "      <td>2011</td>\n",
       "      <td>George R.R. Martin</td>\n",
       "      <td>4.33</td>\n",
       "      <td>1125.0</td>\n",
       "      <td>2011-07-12</td>\n",
       "      <td>Bantam</td>\n",
       "      <td>271230</td>\n",
       "      <td>178846</td>\n",
       "      <td>64273</td>\n",
       "      <td>12202</td>\n",
       "      <td>3245</td>\n",
       "      <td>529796</td>\n",
       "    </tr>\n",
       "    <tr>\n",
       "      <th>3</th>\n",
       "      <td>6752378</td>\n",
       "      <td>4</td>\n",
       "      <td>7535</td>\n",
       "      <td>City of Fallen Angels (The Mortal Instruments,...</td>\n",
       "      <td>Favorite Book of 2011</td>\n",
       "      <td>2011</td>\n",
       "      <td>Cassandra Clare</td>\n",
       "      <td>4.14</td>\n",
       "      <td>425.0</td>\n",
       "      <td>2011-04-05</td>\n",
       "      <td>Simon &amp; Schuster Children's, Margaret K. McEld...</td>\n",
       "      <td>199551</td>\n",
       "      <td>145864</td>\n",
       "      <td>80096</td>\n",
       "      <td>19915</td>\n",
       "      <td>5596</td>\n",
       "      <td>451022</td>\n",
       "    </tr>\n",
       "    <tr>\n",
       "      <th>4</th>\n",
       "      <td>9418327</td>\n",
       "      <td>5</td>\n",
       "      <td>6287</td>\n",
       "      <td>Bossypants</td>\n",
       "      <td>Favorite Book of 2011</td>\n",
       "      <td>2011</td>\n",
       "      <td>Tina Fey</td>\n",
       "      <td>3.96</td>\n",
       "      <td>283.0</td>\n",
       "      <td>2011-04-05</td>\n",
       "      <td>Reagan Arthur Books</td>\n",
       "      <td>278684</td>\n",
       "      <td>292662</td>\n",
       "      <td>164020</td>\n",
       "      <td>41277</td>\n",
       "      <td>22337</td>\n",
       "      <td>798980</td>\n",
       "    </tr>\n",
       "  </tbody>\n",
       "</table>\n",
       "</div>"
      ],
      "text/plain": [
       "        gid  rank  votes                                              title  \\\n",
       "0   8306857     1  10159                          Divergent (Divergent, #1)   \n",
       "1   7304203     2   8970                            Shadowfever (Fever, #5)   \n",
       "2  10664113     3   7617  A Dance with Dragons (A Song of Ice and Fire, #5)   \n",
       "3   6752378     4   7535  City of Fallen Angels (The Mortal Instruments,...   \n",
       "4   9418327     5   6287                                         Bossypants   \n",
       "\n",
       "                category  year             authors  avg_rating   pages  \\\n",
       "0  Favorite Book of 2011  2011       Veronica Roth        4.20   487.0   \n",
       "1  Favorite Book of 2011  2011  Karen Marie Moning        4.41   608.0   \n",
       "2  Favorite Book of 2011  2011  George R.R. Martin        4.33  1125.0   \n",
       "3  Favorite Book of 2011  2011     Cassandra Clare        4.14   425.0   \n",
       "4  Favorite Book of 2011  2011            Tina Fey        3.96   283.0   \n",
       "\n",
       "    published                                          publisher   5stars  \\\n",
       "0  2011-04-25                              Katherine Tegen Books  1343769   \n",
       "1  2011-01-18                                    Delacorte Press    57918   \n",
       "2  2011-07-12                                             Bantam   271230   \n",
       "3  2011-04-05  Simon & Schuster Children's, Margaret K. McEld...   199551   \n",
       "4  2011-04-05                                Reagan Arthur Books   278684   \n",
       "\n",
       "   4stars  3stars  2stars  1stars  ratings  \n",
       "0  835964  406657  114036   51883  2752309  \n",
       "1   23886    8573    2335    1884    94596  \n",
       "2  178846   64273   12202    3245   529796  \n",
       "3  145864   80096   19915    5596   451022  \n",
       "4  292662  164020   41277   22337   798980  "
      ]
     },
     "execution_count": 20,
     "metadata": {},
     "output_type": "execute_result"
    }
   ],
   "source": [
    "# to have a copy of data frame for comparing before and after change of data cleaning\n",
    "data = df.copy()\n",
    "df.head(5)"
   ]
  },
  {
   "cell_type": "code",
   "execution_count": null,
   "id": "f92915eb",
   "metadata": {},
   "outputs": [],
   "source": [
    "#shape of data set \n",
    "print('Number of rows in the dataset: ', df.shape[0])\n",
    "print('Number of columns in the dataset: ', df.shape[1])"
   ]
  },
  {
   "cell_type": "markdown",
   "id": "cc6351a0",
   "metadata": {},
   "source": [
    " The dataset contains the following features:\n",
    "\n",
    "gid - GoodReads ID\n",
    "rank - Position in leaderboards for a specific category and a year\n",
    "title - Title of a book (if it is part of the series, name of the series is in parantheses with its position in series)\n",
    "category - Category in which the book is nominated\n",
    "authors - Authors of the book\n",
    "avg_rating - Average rating (in range 1-5)\n",
    "pages - Number of pages\n",
    "published - Date when the book was published\n",
    "publisher - Publisher of the book\n",
    "{N}stars - Number of ratings with N stars\n",
    "ratings - Total number of ratings"
   ]
  },
  {
   "cell_type": "code",
   "execution_count": 15,
   "id": "c444d70e",
   "metadata": {},
   "outputs": [
    {
     "data": {
      "text/html": [
       "<div>\n",
       "<style scoped>\n",
       "    .dataframe tbody tr th:only-of-type {\n",
       "        vertical-align: middle;\n",
       "    }\n",
       "\n",
       "    .dataframe tbody tr th {\n",
       "        vertical-align: top;\n",
       "    }\n",
       "\n",
       "    .dataframe thead th {\n",
       "        text-align: right;\n",
       "    }\n",
       "</style>\n",
       "<table border=\"1\" class=\"dataframe\">\n",
       "  <thead>\n",
       "    <tr style=\"text-align: right;\">\n",
       "      <th></th>\n",
       "      <th>Missing Values</th>\n",
       "    </tr>\n",
       "  </thead>\n",
       "  <tbody>\n",
       "    <tr>\n",
       "      <th>gid</th>\n",
       "      <td>0</td>\n",
       "    </tr>\n",
       "    <tr>\n",
       "      <th>rank</th>\n",
       "      <td>0</td>\n",
       "    </tr>\n",
       "    <tr>\n",
       "      <th>votes</th>\n",
       "      <td>0</td>\n",
       "    </tr>\n",
       "    <tr>\n",
       "      <th>title</th>\n",
       "      <td>0</td>\n",
       "    </tr>\n",
       "    <tr>\n",
       "      <th>category</th>\n",
       "      <td>0</td>\n",
       "    </tr>\n",
       "    <tr>\n",
       "      <th>year</th>\n",
       "      <td>0</td>\n",
       "    </tr>\n",
       "    <tr>\n",
       "      <th>authors</th>\n",
       "      <td>0</td>\n",
       "    </tr>\n",
       "    <tr>\n",
       "      <th>avg_rating</th>\n",
       "      <td>0</td>\n",
       "    </tr>\n",
       "    <tr>\n",
       "      <th>pages</th>\n",
       "      <td>70</td>\n",
       "    </tr>\n",
       "    <tr>\n",
       "      <th>published</th>\n",
       "      <td>153</td>\n",
       "    </tr>\n",
       "    <tr>\n",
       "      <th>publisher</th>\n",
       "      <td>0</td>\n",
       "    </tr>\n",
       "    <tr>\n",
       "      <th>5stars</th>\n",
       "      <td>0</td>\n",
       "    </tr>\n",
       "    <tr>\n",
       "      <th>4stars</th>\n",
       "      <td>0</td>\n",
       "    </tr>\n",
       "    <tr>\n",
       "      <th>3stars</th>\n",
       "      <td>0</td>\n",
       "    </tr>\n",
       "    <tr>\n",
       "      <th>2stars</th>\n",
       "      <td>0</td>\n",
       "    </tr>\n",
       "    <tr>\n",
       "      <th>1stars</th>\n",
       "      <td>0</td>\n",
       "    </tr>\n",
       "    <tr>\n",
       "      <th>ratings</th>\n",
       "      <td>0</td>\n",
       "    </tr>\n",
       "  </tbody>\n",
       "</table>\n",
       "</div>"
      ],
      "text/plain": [
       "            Missing Values\n",
       "gid                      0\n",
       "rank                     0\n",
       "votes                    0\n",
       "title                    0\n",
       "category                 0\n",
       "year                     0\n",
       "authors                  0\n",
       "avg_rating               0\n",
       "pages                   70\n",
       "published              153\n",
       "publisher                0\n",
       "5stars                   0\n",
       "4stars                   0\n",
       "3stars                   0\n",
       "2stars                   0\n",
       "1stars                   0\n",
       "ratings                  0"
      ]
     },
     "execution_count": 15,
     "metadata": {},
     "output_type": "execute_result"
    }
   ],
   "source": [
    "null_values = df.isnull().sum()\n",
    "null_values = pd.DataFrame(null_values, columns=['Missing Values'])\n",
    "null_values"
   ]
  },
  {
   "cell_type": "code",
   "execution_count": 16,
   "id": "db91521a",
   "metadata": {},
   "outputs": [
    {
     "name": "stdout",
     "output_type": "stream",
     "text": [
      "------CATEGORIES----------\n",
      "0 :  Favorite Book of 2011\n",
      "1 :  Fiction\n",
      "2 :  Mystery & Thriller\n",
      "3 :  Historical Fiction\n",
      "4 :  Fantasy\n",
      "5 :  Paranormal Fantasy\n",
      "6 :  Science Fiction\n",
      "7 :  Horror\n",
      "8 :  Romance\n",
      "9 :  Humor\n",
      "10 :  Nonfiction\n",
      "11 :  History & Biography\n",
      "12 :  Memoir & Autobiography\n",
      "13 :  Food & Cooking\n",
      "14 :  Travel & Outdoors\n",
      "15 :  Young Adult Fiction\n",
      "16 :  Young Adult Fantasy\n",
      "17 :  Middle Grade & Children's\n",
      "18 :  Picture Books\n",
      "19 :  Graphic Novels & Comics\n",
      "20 :  Poetry\n",
      "21 :  Goodreads Author\n",
      "22 :  Food & Cookbooks\n",
      "23 :  Debut Goodreads Author\n",
      "24 :  Business Books\n",
      "25 :  Science & Technology\n",
      "26 :  Best of the Best\n",
      "27 :  Debut Author\n",
      "28 :  Debut Novel\n"
     ]
    }
   ],
   "source": [
    "#unique categories for which the award was given \n",
    "total_unique_categories = list(range(df['category'].nunique()))\n",
    "print('------CATEGORIES----------')\n",
    "for category in zip(total_unique_categories, df['category'].unique()):\n",
    "    print(category[0], ': ', category[1])\n",
    "    \n",
    "    #there are 28 categories "
   ]
  },
  {
   "cell_type": "code",
   "execution_count": 17,
   "id": "3da21613",
   "metadata": {},
   "outputs": [
    {
     "name": "stdout",
     "output_type": "stream",
     "text": [
      "Number of unique nominees for the award:  3503\n"
     ]
    }
   ],
   "source": [
    "print('Number of unique nominees for the awards: ', df['title'].nunique())"
   ]
  },
  {
   "cell_type": "code",
   "execution_count": 24,
   "id": "c2f88142",
   "metadata": {},
   "outputs": [
    {
     "data": {
      "text/html": [
       "<div>\n",
       "<style scoped>\n",
       "    .dataframe tbody tr th:only-of-type {\n",
       "        vertical-align: middle;\n",
       "    }\n",
       "\n",
       "    .dataframe tbody tr th {\n",
       "        vertical-align: top;\n",
       "    }\n",
       "\n",
       "    .dataframe thead th {\n",
       "        text-align: right;\n",
       "    }\n",
       "</style>\n",
       "<table border=\"1\" class=\"dataframe\">\n",
       "  <thead>\n",
       "    <tr style=\"text-align: right;\">\n",
       "      <th></th>\n",
       "      <th>gid</th>\n",
       "      <th>rank</th>\n",
       "      <th>votes</th>\n",
       "      <th>title</th>\n",
       "      <th>category</th>\n",
       "      <th>year</th>\n",
       "      <th>authors</th>\n",
       "      <th>avg_rating</th>\n",
       "      <th>pages</th>\n",
       "      <th>published</th>\n",
       "      <th>publisher</th>\n",
       "      <th>5stars</th>\n",
       "      <th>4stars</th>\n",
       "      <th>3stars</th>\n",
       "      <th>2stars</th>\n",
       "      <th>1stars</th>\n",
       "      <th>ratings</th>\n",
       "    </tr>\n",
       "  </thead>\n",
       "  <tbody>\n",
       "    <tr>\n",
       "      <th>0</th>\n",
       "      <td>8306857</td>\n",
       "      <td>1</td>\n",
       "      <td>10159</td>\n",
       "      <td>Divergent (Divergent, #1)</td>\n",
       "      <td>Favorite Book of 2011</td>\n",
       "      <td>2011</td>\n",
       "      <td>Veronica Roth</td>\n",
       "      <td>4.20</td>\n",
       "      <td>487.0</td>\n",
       "      <td>2011-04-25</td>\n",
       "      <td>Katherine Tegen Books</td>\n",
       "      <td>1343769</td>\n",
       "      <td>835964</td>\n",
       "      <td>406657</td>\n",
       "      <td>114036</td>\n",
       "      <td>51883</td>\n",
       "      <td>2752309</td>\n",
       "    </tr>\n",
       "    <tr>\n",
       "      <th>20</th>\n",
       "      <td>10357575</td>\n",
       "      <td>1</td>\n",
       "      <td>4107</td>\n",
       "      <td>1Q84</td>\n",
       "      <td>Fiction</td>\n",
       "      <td>2011</td>\n",
       "      <td>Haruki Murakami, Jay Rubin, Philip Gabriel</td>\n",
       "      <td>3.92</td>\n",
       "      <td>925.0</td>\n",
       "      <td>2011-10-25</td>\n",
       "      <td>Knopf</td>\n",
       "      <td>62227</td>\n",
       "      <td>68013</td>\n",
       "      <td>37216</td>\n",
       "      <td>12440</td>\n",
       "      <td>4947</td>\n",
       "      <td>184843</td>\n",
       "    </tr>\n",
       "    <tr>\n",
       "      <th>40</th>\n",
       "      <td>9583508</td>\n",
       "      <td>1</td>\n",
       "      <td>3996</td>\n",
       "      <td>Smokin' Seventeen (Stephanie Plum, #17)</td>\n",
       "      <td>Mystery &amp; Thriller</td>\n",
       "      <td>2011</td>\n",
       "      <td>Janet Evanovich, Lorelei King</td>\n",
       "      <td>3.96</td>\n",
       "      <td>308.0</td>\n",
       "      <td>2011-06-21</td>\n",
       "      <td>Random House Audio Publishing Group</td>\n",
       "      <td>23976</td>\n",
       "      <td>26630</td>\n",
       "      <td>18046</td>\n",
       "      <td>3454</td>\n",
       "      <td>637</td>\n",
       "      <td>72743</td>\n",
       "    </tr>\n",
       "    <tr>\n",
       "      <th>60</th>\n",
       "      <td>8683812</td>\n",
       "      <td>1</td>\n",
       "      <td>3123</td>\n",
       "      <td>The Paris Wife</td>\n",
       "      <td>Historical Fiction</td>\n",
       "      <td>2011</td>\n",
       "      <td>Paula McLain</td>\n",
       "      <td>3.81</td>\n",
       "      <td>314.0</td>\n",
       "      <td>2011-02-27</td>\n",
       "      <td>Ballantine Books</td>\n",
       "      <td>60486</td>\n",
       "      <td>108074</td>\n",
       "      <td>64210</td>\n",
       "      <td>15284</td>\n",
       "      <td>4446</td>\n",
       "      <td>252500</td>\n",
       "    </tr>\n",
       "    <tr>\n",
       "      <th>80</th>\n",
       "      <td>10664113</td>\n",
       "      <td>1</td>\n",
       "      <td>8530</td>\n",
       "      <td>A Dance with Dragons (A Song of Ice and Fire, #5)</td>\n",
       "      <td>Fantasy</td>\n",
       "      <td>2011</td>\n",
       "      <td>George R.R. Martin</td>\n",
       "      <td>4.33</td>\n",
       "      <td>1125.0</td>\n",
       "      <td>2011-07-12</td>\n",
       "      <td>Bantam</td>\n",
       "      <td>271230</td>\n",
       "      <td>178846</td>\n",
       "      <td>64273</td>\n",
       "      <td>12202</td>\n",
       "      <td>3245</td>\n",
       "      <td>529796</td>\n",
       "    </tr>\n",
       "  </tbody>\n",
       "</table>\n",
       "</div>"
      ],
      "text/plain": [
       "         gid  rank  votes                                              title  \\\n",
       "0    8306857     1  10159                          Divergent (Divergent, #1)   \n",
       "20  10357575     1   4107                                               1Q84   \n",
       "40   9583508     1   3996            Smokin' Seventeen (Stephanie Plum, #17)   \n",
       "60   8683812     1   3123                                     The Paris Wife   \n",
       "80  10664113     1   8530  A Dance with Dragons (A Song of Ice and Fire, #5)   \n",
       "\n",
       "                 category  year                                     authors  \\\n",
       "0   Favorite Book of 2011  2011                               Veronica Roth   \n",
       "20                Fiction  2011  Haruki Murakami, Jay Rubin, Philip Gabriel   \n",
       "40     Mystery & Thriller  2011               Janet Evanovich, Lorelei King   \n",
       "60     Historical Fiction  2011                                Paula McLain   \n",
       "80                Fantasy  2011                          George R.R. Martin   \n",
       "\n",
       "    avg_rating   pages   published                            publisher  \\\n",
       "0         4.20   487.0  2011-04-25                Katherine Tegen Books   \n",
       "20        3.92   925.0  2011-10-25                                Knopf   \n",
       "40        3.96   308.0  2011-06-21  Random House Audio Publishing Group   \n",
       "60        3.81   314.0  2011-02-27                     Ballantine Books   \n",
       "80        4.33  1125.0  2011-07-12                               Bantam   \n",
       "\n",
       "     5stars  4stars  3stars  2stars  1stars  ratings  \n",
       "0   1343769  835964  406657  114036   51883  2752309  \n",
       "20    62227   68013   37216   12440    4947   184843  \n",
       "40    23976   26630   18046    3454     637    72743  \n",
       "60    60486  108074   64210   15284    4446   252500  \n",
       "80   271230  178846   64273   12202    3245   529796  "
      ]
     },
     "execution_count": 24,
     "metadata": {},
     "output_type": "execute_result"
    }
   ],
   "source": [
    "#make new data set with just the rank 1 awarded books\n",
    "temp =  data['rank']==1\n",
    "#check dataset \n",
    "awarded_books = data[temp]\n",
    "\n",
    "awarded_books.head(5)\n",
    "\n",
    "#No book has been awarded more than once "
   ]
  },
  {
   "cell_type": "code",
   "execution_count": 28,
   "id": "06797e6f",
   "metadata": {},
   "outputs": [
    {
     "data": {
      "text/plain": [
       "(183, 17)"
      ]
     },
     "execution_count": 28,
     "metadata": {},
     "output_type": "execute_result"
    }
   ],
   "source": [
    "awarded_books.shape"
   ]
  },
  {
   "cell_type": "code",
   "execution_count": 35,
   "id": "ce33a9a2",
   "metadata": {},
   "outputs": [
    {
     "name": "stderr",
     "output_type": "stream",
     "text": [
      "C:\\Users\\Navya\\anaconda3\\lib\\site-packages\\seaborn\\_decorators.py:36: FutureWarning: Pass the following variables as keyword args: x, y. From version 0.12, the only valid positional argument will be `data`, and passing other arguments without an explicit keyword will result in an error or misinterpretation.\n",
      "  warnings.warn(\n"
     ]
    },
    {
     "data": {
      "text/plain": [
       "<AxesSubplot:xlabel='votes', ylabel='title'>"
      ]
     },
     "execution_count": 35,
     "metadata": {},
     "output_type": "execute_result"
    },
    {
     "data": {
      "image/png": "[encoded data removed]",
      "text/plain": [
       "<Figure size 1080x720 with 1 Axes>"
      ]
     },
     "metadata": {
      "needs_background": "light"
     },
     "output_type": "display_data"
    }
   ],
   "source": [
    "#do the awarded books have similar amount of votes? \n",
    "most_voted = awarded_books.sort_values('votes', ascending = False).head(10).set_index('title')\n",
    "plt.figure(figsize=(15,10))\n",
    "sns.barplot(most_voted['votes'], most_voted.index)"
   ]
  },
  {
   "cell_type": "code",
   "execution_count": 39,
   "id": "68c95af1",
   "metadata": {},
   "outputs": [
    {
     "name": "stderr",
     "output_type": "stream",
     "text": [
      "C:\\Users\\Navya\\anaconda3\\lib\\site-packages\\seaborn\\_decorators.py:36: FutureWarning: Pass the following variables as keyword args: x, y. From version 0.12, the only valid positional argument will be `data`, and passing other arguments without an explicit keyword will result in an error or misinterpretation.\n",
      "  warnings.warn(\n"
     ]
    },
    {
     "data": {
      "image/png": "[encoded data removed]",
      "text/plain": [
       "<Figure size 1080x720 with 1 Axes>"
      ]
     },
     "metadata": {
      "needs_background": "light"
     },
     "output_type": "display_data"
    }
   ],
   "source": [
    "sns.set_context('talk')\n",
    "most_books = awarded_books.groupby('authors')['title'].count().reset_index().sort_values('title', ascending=False).head(10).set_index('authors')\n",
    "plt.figure(figsize=(15,10))\n",
    "ax = sns.barplot(most_books['title'], most_books.index, palette='icefire_r')\n",
    "ax.set_title(\"Top 10 authors with most books\")\n",
    "ax.set_xlabel(\"Total number of books\")\n",
    "for i in ax.patches:\n",
    "    ax.text(i.get_width()+.3, i.get_y()+0.5, str(round(i.get_width())), fontsize = 10, color = 'k')"
   ]
  },
  {
   "cell_type": "code",
   "execution_count": 42,
   "id": "43e738b5",
   "metadata": {},
   "outputs": [
    {
     "data": {
      "text/plain": [
       "Ilona Andrews        15\n",
       "Sarah J. Maas        14\n",
       "Rick Riordan         13\n",
       "Colleen Hoover       12\n",
       "Brandon Sanderson    11\n",
       "Richelle Mead        11\n",
       "Cassandra Clare      10\n",
       "Mark  Lawrence       10\n",
       "Mo Willems            9\n",
       "Maggie Stiefvater     9\n",
       "Name: authors, dtype: int64"
      ]
     },
     "execution_count": 42,
     "metadata": {},
     "output_type": "execute_result"
    }
   ],
   "source": [
    "data['authors'].value_counts().head(10) #number of times authors nominated "
   ]
  },
  {
   "cell_type": "code",
   "execution_count": 46,
   "id": "a9130450",
   "metadata": {},
   "outputs": [
    {
     "data": {
      "text/plain": [
       "False    183\n",
       "Name: avg_rating, dtype: int64"
      ]
     },
     "execution_count": 46,
     "metadata": {},
     "output_type": "execute_result"
    }
   ],
   "source": [
    "#average rating of rank 1 awarded books \n",
    "awarded_books.avg_rating.isnull().value_counts()"
   ]
  },
  {
   "cell_type": "code",
   "execution_count": 49,
   "id": "8a10e112",
   "metadata": {},
   "outputs": [],
   "source": [
    "#remove null values\n",
    "df.dropna(0, inplace=True)\n"
   ]
  },
  {
   "cell_type": "code",
   "execution_count": 53,
   "id": "9d754dcd",
   "metadata": {},
   "outputs": [
    {
     "data": {
      "text/plain": [
       "<AxesSubplot:xlabel='avg_rating', ylabel='Count'>"
      ]
     },
     "execution_count": 53,
     "metadata": {},
     "output_type": "execute_result"
    },
    {
     "data": {
      "image/png": "[encoded data removed]",
      "text/plain": [
       "<Figure size 720x720 with 1 Axes>"
      ]
     },
     "metadata": {
      "needs_background": "light"
     },
     "output_type": "display_data"
    }
   ],
   "source": [
    "plt.figure(figsize=(10,10))\n",
    "rating= df.avg_rating.astype(float)\n",
    "sns.histplot(rating, bins=20)"
   ]
  },
  {
   "cell_type": "code",
   "execution_count": 56,
   "id": "364d50c6",
   "metadata": {},
   "outputs": [
    {
     "data": {
      "text/plain": [
       "<Figure size 1080x720 with 0 Axes>"
      ]
     },
     "metadata": {},
     "output_type": "display_data"
    },
    {
     "data": {
      "image/png": "[encoded data removed]",
      "text/plain": [
       "<Figure size 432x432 with 3 Axes>"
      ]
     },
     "metadata": {
      "needs_background": "light"
     },
     "output_type": "display_data"
    }
   ],
   "source": [
    "#investigate relationship between avg_rating and votes count\n",
    "\n",
    "plt.figure(figsize=(15,10))\n",
    "df.dropna(0, inplace=True)\n",
    "sns.set_context('paper')\n",
    "ax =sns.jointplot(x=\"avg_rating\",y='votes', kind='scatter',  data= df[['votes', 'avg_rating']])\n",
    "ax.set_axis_labels(\"Average Rating\", \"Votes Count\")\n",
    "plt.show()\n",
    "\n",
    "#most of the ratings lie between 3.75 and  4.5\n",
    "#the plot is inconclusive to derive a relationship \n"
   ]
  },
  {
   "cell_type": "code",
   "execution_count": 62,
   "id": "5b87bacc",
   "metadata": {},
   "outputs": [
    {
     "data": {
      "image/png": "[encoded data removed]",
      "text/plain": [
       "<Figure size 432x288 with 1 Axes>"
      ]
     },
     "metadata": {
      "needs_background": "light"
     },
     "output_type": "display_data"
    }
   ],
   "source": [
    "\n",
    "#see how number of votes were casted each year \n",
    "df_to_plot1 = df.groupby(\"year\").agg(votes=(\"votes\", \"sum\")).reset_index()\n",
    "\n",
    "plt.figure()\n",
    "plt.plot(df_to_plot1[\"year\"], df_to_plot[\"votes\"], \"-o\")\n",
    "plt.show()\n",
    "\n"
   ]
  },
  {
   "cell_type": "code",
   "execution_count": 67,
   "id": "7f18ef14",
   "metadata": {},
   "outputs": [
    {
     "data": {
      "image/png": "[encoded data removed]",
      "text/plain": [
       "<Figure size 432x288 with 1 Axes>"
      ]
     },
     "metadata": {
      "needs_background": "light"
     },
     "output_type": "display_data"
    }
   ],
   "source": [
    "#how many votes were needed each year to win \n",
    "df_to_plot = df.loc[df[\"rank\"]==1]\\\n",
    "               .sort_values(by=\"votes\", ascending=False)\\\n",
    "               .drop_duplicates(subset=\"year\")\\\n",
    "               .sort_values(by=\"year\")\n",
    "\n",
    "plt.figure()\n",
    "plt.plot(df_to_plot[\"year\"], df_to_plot[\"votes\"], \"-o\")\n",
    "\n",
    "plt.show()"
   ]
  }
 ],
 "metadata": {
  "kernelspec": {
   "display_name": "Python 3",
   "language": "python",
   "name": "python3"
  },
  "language_info": {
   "codemirror_mode": {
    "name": "ipython",
    "version": 3
   },
   "file_extension": ".py",
   "mimetype": "text/x-python",
   "name": "python",
   "nbconvert_exporter": "python",
   "pygments_lexer": "ipython3",
   "version": "3.8.8"
  }
 },
 "nbformat": 4,
 "nbformat_minor": 5
}
